{
 "cells": [
  {
   "cell_type": "markdown",
   "metadata": {},
   "source": [
    "---\n",
    "\n",
    "# K-nearest Neighbors\n",
    "\n",
    "\n",
    "The $k$-nearest neighbors algorithm, or **KNN** for short, is a nonparametric algorithm that assumes that similar data exist in close proximity. In other words, similar things are near to each other. \n",
    "\n",
    "> \"Birds of a feather flock together\"\n",
    "\n",
    "To illustrate this point, let us import the following packages, load the iris dataset, and plot the sepal length versus sepal width. \n",
    "\n",
    "---"
   ]
  },
  {
   "cell_type": "code",
   "execution_count": 7,
   "metadata": {},
   "outputs": [
    {
     "data": {
      "image/png": "[encoded data removed]",
      "text/plain": [
       "<Figure size 720x576 with 1 Axes>"
      ]
     },
     "metadata": {},
     "output_type": "display_data"
    }
   ],
   "source": [
    "import matplotlib.pyplot as plt\n",
    "import numpy as np\n",
    "import pandas as pd\n",
    "import seaborn as sns\n",
    "\n",
    "# Set theme for plotting\n",
    "sns.set_theme()\n",
    "\n",
    "# Import the data\n",
    "df=pd.read_csv('C:/Users/qianyunneng/Desktop/palmer_penguins.csv')\n",
    "\n",
    "# Plot the data\n",
    "penguins = [\"Adelie\", \"Chinstrap\", \"Gentoo\"]\n",
    "colors = [\"red\", \"magenta\", \"lightseagreen\"]\n",
    "\n",
    "fig, ax = plt.subplots(figsize = (10, 8))\n",
    "for species, color in zip(penguins, colors):\n",
    "    temp_df = df[df.species == species]\n",
    "    ax.scatter(temp_df.bill_length_mm,\n",
    "               temp_df.bill_depth_mm,\n",
    "               c = color,\n",
    "               label = species, \n",
    "               )\n",
    "    \n",
    "ax.set_xlabel(\"bill length [mm]\", fontsize = 15)\n",
    "ax.set_ylabel(\"bill depth [mm]\", fontsize = 15)\n",
    "ax.legend()\n",
    "plt.show()"
   ]
  },
  {
   "cell_type": "markdown",
   "metadata": {},
   "source": [
    "---\n",
    "\n",
    "Notice in the image above that most of the time, similar data points are close to each other. The KNN algorithm hinges on this assumption being true enough for the algorithm to be useful. KNN captures the idea of similarity (sometimes called distance, proximity, or closeness) with some mathematics we might have learned in our childhood— calculating the distance between points on a graph.\n",
    "\n",
    "### The KNN Algorithm\n",
    "1. Load the data\n",
    "2. Initialize K to your chosen number of neighbors\n",
    "3. For each example in the data\n",
    " - 3.1 Calculate the distance between the query example and the current example from the data.\n",
    " - 3.2 Add the distance and the index of the example to an ordered collection\n",
    "4. Sort the ordered collection of distances and indices from smallest to largest (in ascending order) by the distances\n",
    "5. Pick the first K entries from the sorted collection\n",
    "6. Get the labels of the selected K entries\n",
    "7. If regression, return the mean of the K labels\n",
    "8. If classification, return the mode of the K labels\n",
    "\n",
    "\n",
    "Before implementing this algorithm we creat a training set and testing set by running the following code.\n",
    "\n",
    "---"
   ]
  },
  {
   "cell_type": "code",
   "execution_count": 9,
   "metadata": {},
   "outputs": [],
   "source": [
    "from sklearn.model_selection import train_test_split\n",
    "\n",
    "X = df[[\"bill_length_mm\",\n",
    "          \"bill_depth_mm\"]].to_numpy()\n",
    "\n",
    "y = df[\"species\"].to_numpy()\n",
    "\n",
    "X_train, X_test, y_train, y_test = train_test_split(X,\n",
    "                                                    y, \n",
    "                                                    test_size=0.33, \n",
    "                                                    random_state=42)"
   ]
  },
  {
   "cell_type": "markdown",
   "metadata": {},
   "source": [
    "---\n",
    "\n",
    "For our distance measure, we will choose the **Euclidean distance** defined by the following equation:\n",
    "\n",
    "$$\n",
    "d(p, q) = \\sqrt{(p - q)^{T} (p - q)}\n",
    "$$\n",
    "\n",
    "\n",
    "---"
   ]
  },
  {
   "cell_type": "code",
   "execution_count": 10,
   "metadata": {},
   "outputs": [
    {
     "name": "stdout",
     "output_type": "stream",
     "text": [
      "The distance between point 10 and 67 is 3.8587562763149514\n"
     ]
    }
   ],
   "source": [
    "def distance(p, q):\n",
    "    return np.sqrt((p - q) @ (p - q))\n",
    "\n",
    "print(f\"The distance between point 10 and 67 is {distance(X[10], X[67])}\")"
   ]
  },
  {
   "cell_type": "markdown",
   "metadata": {},
   "source": [
    "---\n",
    "\n",
    "With our distance function, we are now ready to write a function to compute the $k$-nearest neighbors to a given point. This is done in the code cell below. \n",
    "\n",
    "---"
   ]
  },
  {
   "cell_type": "code",
   "execution_count": 11,
   "metadata": {},
   "outputs": [],
   "source": [
    "def k_nearest_neighbors(point, \n",
    "                        training_features, \n",
    "                        training_labels, \n",
    "                        k):\n",
    "    # Create an empty list to store neighbors and distances\n",
    "    neighbors = []\n",
    "    \n",
    "    for p, label in zip(training_features, training_labels):\n",
    "        d = distance(point, p)\n",
    "        temp_data = [p, label, d]\n",
    "        neighbors.append(temp_data)\n",
    "        \n",
    "    neighbors.sort(key = lambda x : x[-1])\n",
    "    \n",
    "    return neighbors[:k]"
   ]
  },
  {
   "cell_type": "code",
   "execution_count": 12,
   "metadata": {},
   "outputs": [
    {
     "data": {
      "text/plain": [
       "[[array([50.8, 19. ]), 'Chinstrap', 0.5],\n",
       " [array([52., 19.]), 'Chinstrap', 1.3000000000000027],\n",
       " [array([50.3, 20. ]), 'Chinstrap', 1.5811388300841898],\n",
       " [array([51.7, 20.3]), 'Chinstrap', 2.012461179749814],\n",
       " [array([50. , 16.3]), 'Gentoo', 2.3409399821439236]]"
      ]
     },
     "execution_count": 12,
     "metadata": {},
     "output_type": "execute_result"
    }
   ],
   "source": [
    "# Test the k_nearest_neighbors function\n",
    "k_nearest_neighbors(X_test[-1], X_train, y_train, 5)"
   ]
  },
  {
   "cell_type": "code",
   "execution_count": 13,
   "metadata": {},
   "outputs": [
    {
     "data": {
      "text/plain": [
       "'Chinstrap'"
      ]
     },
     "execution_count": 13,
     "metadata": {},
     "output_type": "execute_result"
    }
   ],
   "source": [
    "# Show the true label \n",
    "y_test[-1]"
   ]
  },
  {
   "cell_type": "markdown",
   "metadata": {},
   "source": [
    "---\n",
    "\n",
    "Now that we have a function to compute the $k$-nearest neighbors to a point, we can now write a function to predict a target label. However, we should note that KNN can be used for both classification and regression machine learning. This is shown in the code cell below. \n",
    "\n",
    "---"
   ]
  },
  {
   "cell_type": "code",
   "execution_count": 14,
   "metadata": {},
   "outputs": [],
   "source": [
    "def KNN_Predict(point, \n",
    "                training_features, \n",
    "                training_labels, \n",
    "                k, \n",
    "                regression = False):\n",
    "    \n",
    "    neighbors = k_nearest_neighbors(point, \n",
    "                                    training_features, \n",
    "                                    training_labels, \n",
    "                                    k)\n",
    "    \n",
    "    if regression == False:\n",
    "        labels = [x[1] for x in neighbors]\n",
    "        return max(labels, key = labels.count)\n",
    "    \n",
    "    else:\n",
    "        return sum(x[1] for x in neighbors)/k"
   ]
  },
  {
   "cell_type": "code",
   "execution_count": 15,
   "metadata": {},
   "outputs": [
    {
     "data": {
      "text/plain": [
       "'Chinstrap'"
      ]
     },
     "execution_count": 15,
     "metadata": {},
     "output_type": "execute_result"
    }
   ],
   "source": [
    "# Test our function \n",
    "KNN_Predict(X_test[-1], X_train, y_train, 5)"
   ]
  },
  {
   "cell_type": "markdown",
   "metadata": {},
   "source": [
    "---\n",
    "\n",
    "Next we write a function to compute the classification error\n",
    "\n",
    "\n",
    "\n",
    "---"
   ]
  },
  {
   "cell_type": "code",
   "execution_count": 16,
   "metadata": {},
   "outputs": [],
   "source": [
    "def classification_error(test_features, \n",
    "                         test_labels,\n",
    "                         training_features, \n",
    "                         training_labels,\n",
    "                         k):\n",
    "    error = 0\n",
    "    for point, label in zip(test_features, test_labels):\n",
    "        error += label != KNN_Predict(point, \n",
    "                                      training_features, \n",
    "                                      training_labels, \n",
    "                                      k)\n",
    "    return error/len(test_features)"
   ]
  },
  {
   "cell_type": "code",
   "execution_count": 17,
   "metadata": {},
   "outputs": [
    {
     "data": {
      "text/plain": [
       "0.06140350877192982"
      ]
     },
     "execution_count": 17,
     "metadata": {},
     "output_type": "execute_result"
    }
   ],
   "source": [
    "# Test our function\n",
    "classification_error(X_test, y_test, X_train, y_train, 7)"
   ]
  },
  {
   "cell_type": "markdown",
   "metadata": {},
   "source": [
    "## Choosing the right value for K\n",
    "To select the K that’s right for your data, we run the KNN algorithm several times with different values of K and choose the K that reduces the number of errors we encounter while maintaining the algorithm’s ability to accurately make predictions when it’s given data it hasn’t seen before.\n",
    "\n",
    "Here are some things to keep in mind:\n",
    "\n",
    "1. As we decrease the value of K to 1, our predictions become less stable. Just think for a minute, imagine K=1 and we have a query point surrounded by several reds and one green (I’m thinking about the top left corner of the colored plot above), but the green is the single nearest neighbor. Reasonably, we would think the query point is most likely red, but because K=1, KNN incorrectly predicts that the query point is green.\n",
    "2. Inversely, as we increase the value of K, our predictions become more stable due to majority voting / averaging, and thus, more likely to make more accurate predictions (up to a certain point). Eventually, we begin to witness an increasing number of errors. It is at this point we know we have pushed the value of K too far.\n",
    "3. In cases where we are taking a majority vote (e.g. picking the mode in a classification problem) among labels, we usually make K an odd number to have a tiebreaker.\n",
    "\n",
    "### Then how to select the optimal K value?\n",
    "* There are no pre-defined statistical methods to find the most favorable value of K.\n",
    "* Initialize a random K value and start computing.\n",
    "* Choosing a small value of K leads to unstable decision boundaries.\n",
    "* The substantial K value is better for classification as it leads to smoothening the decision boundaries.\n",
    "* Derive a plot between error rate and K denoting values in a defined range. Choose the K value having the minimum error rate. \n",
    "\n",
    "### Advantages\n",
    "* The algorithm is simple and easy to implement.\n",
    "* There’s no need to build a model, tune several parameters, or make additional assumptions.\n",
    "* The algorithm is versatile. It can be used for classification, regression, and search (as we will see in the next section).\n",
    "\n",
    "\n",
    "### Disadvantages\n",
    "* The algorithm gets significantly slower as the number of examples and/or predictors/independent variables increase."
   ]
  },
  {
   "cell_type": "code",
   "execution_count": 18,
   "metadata": {},
   "outputs": [],
   "source": [
    "possible_k = [k for k in range(3, 26, 2)]\n",
    "errors = [classification_error(X_test,\n",
    "                               y_test,\n",
    "                               X_train,\n",
    "                               y_train, k) for k in possible_k]"
   ]
  },
  {
   "cell_type": "code",
   "execution_count": 19,
   "metadata": {},
   "outputs": [
    {
     "data": {
      "image/png": "[encoded data removed]",
      "text/plain": [
       "<Figure size 720x576 with 1 Axes>"
      ]
     },
     "metadata": {},
     "output_type": "display_data"
    }
   ],
   "source": [
    "plt.figure(figsize = (10, 8))\n",
    "plt.plot(possible_k, errors, color = 'red', marker = \"o\")\n",
    "plt.xlabel('k', fontsize = 14)\n",
    "plt.ylabel('Classification Error', fontsize = 14)\n",
    "plt.xticks(possible_k)\n",
    "plt.show()"
   ]
  }
 ],
 "metadata": {
  "kernelspec": {
   "display_name": "Python 3 (ipykernel)",
   "language": "python",
   "name": "python3"
  },
  "language_info": {
   "codemirror_mode": {
    "name": "ipython",
    "version": 3
   },
   "file_extension": ".py",
   "mimetype": "text/x-python",
   "name": "python",
   "nbconvert_exporter": "python",
   "pygments_lexer": "ipython3",
   "version": "3.9.7"
  }
 },
 "nbformat": 4,
 "nbformat_minor": 4
}
